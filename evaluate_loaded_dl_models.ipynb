{
 "cells": [
  {
   "cell_type": "code",
   "execution_count": 2,
   "metadata": {
    "collapsed": true,
    "ExecuteTime": {
     "end_time": "2023-06-06T08:26:49.803201400Z",
     "start_time": "2023-06-06T08:26:47.320657400Z"
    }
   },
   "outputs": [],
   "source": [
    "import tensorflow as tf\n",
    "from gensim.models import KeyedVectors\n",
    "from data_utils import Preprocess, preprocess_test, ReadOpen"
   ]
  },
  {
   "cell_type": "code",
   "execution_count": 3,
   "outputs": [],
   "source": [
    "glove_model = KeyedVectors.load_word2vec_format('glove.twitter.27B.200d.bin', binary=True)\n",
    "emoji2vec_model = KeyedVectors.load_word2vec_format('emoji2vec_twitter.bin', binary=True)"
   ],
   "metadata": {
    "collapsed": false,
    "ExecuteTime": {
     "end_time": "2023-06-06T08:27:00.196656200Z",
     "start_time": "2023-06-06T08:26:49.804701800Z"
    }
   }
  },
  {
   "cell_type": "code",
   "execution_count": 4,
   "outputs": [
    {
     "name": "stdout",
     "output_type": "stream",
     "text": [
      "Reading data...\n",
      "Getting Embeddings...\n",
      "Successfully loaded and processed the data!\n"
     ]
    }
   ],
   "source": [
    "filename_train = \"train_sentence.csv\"\n",
    "Labelfile_train = \"train_label.csv\"\n",
    "filename_test = \"test_sentence.csv\"\n",
    "Labelfile_test = \"test_label.csv\"\n",
    "filename_subtest = \"subtest_sentence.csv\"\n",
    "Labelfile_subtest = \"subtest_label.csv\"\n",
    "print('Reading data...')\n",
    "data_train,labels_train,count_train = ReadOpen(filename_train,Labelfile_train)\n",
    "data_test,labels_test,count_test = ReadOpen(filename_test,Labelfile_test)\n",
    "data_subtest,labels_subtest,count_subtest = ReadOpen(filename_subtest,Labelfile_subtest)\n",
    "print('Getting Embeddings...')\n",
    "padded_docs_train, embedding_matrix,l,t = Preprocess(data_train,count_train,glove_model,emoji2vec_model)\n",
    "padded_docs_test = preprocess_test(t,l,data_test)\n",
    "padded_docs_subtest = preprocess_test(t,l,data_subtest)\n",
    "print('Successfully loaded and processed the data!')\n"
   ],
   "metadata": {
    "collapsed": false,
    "ExecuteTime": {
     "end_time": "2023-06-06T08:27:02.925330900Z",
     "start_time": "2023-06-06T08:27:00.197149200Z"
    }
   }
  },
  {
   "cell_type": "code",
   "execution_count": 5,
   "outputs": [],
   "source": [
    "X_subtest = padded_docs_subtest\n",
    "y_subtest = labels_subtest\n",
    "X_train = padded_docs_train\n",
    "X_test = padded_docs_test\n",
    "y_train = labels_train\n",
    "y_test = labels_test\n",
    "X_val = X_test\n",
    "y_val = y_test"
   ],
   "metadata": {
    "collapsed": false,
    "ExecuteTime": {
     "end_time": "2023-06-06T08:27:04.039536300Z",
     "start_time": "2023-06-06T08:27:04.019866Z"
    }
   }
  },
  {
   "cell_type": "code",
   "execution_count": 10,
   "outputs": [],
   "source": [
    "model_we = tf.keras.models.load_model(\"model/best_model_multi_modal\")"
   ],
   "metadata": {
    "collapsed": false,
    "ExecuteTime": {
     "end_time": "2023-06-06T08:29:04.602838Z",
     "start_time": "2023-06-06T08:28:59.017586500Z"
    }
   }
  },
  {
   "cell_type": "code",
   "execution_count": 11,
   "outputs": [
    {
     "name": "stdout",
     "output_type": "stream",
     "text": [
      "63/63 [==============================] - 1s 13ms/step - loss: 0.3200 - acc: 0.8735\n",
      "9/9 [==============================] - 0s 11ms/step - loss: 0.2852 - acc: 0.8921\n"
     ]
    }
   ],
   "source": [
    "loss, accuracy_we = model_we.evaluate(X_test, y_test, verbose=1)\n",
    "loss, sub_accuracy_we = model_we.evaluate(X_subtest, y_subtest, verbose=1)\n",
    "# loss1, accuracy1 = model.evaluate(X_test1, y_test1, verbose=1)"
   ],
   "metadata": {
    "collapsed": false,
    "ExecuteTime": {
     "end_time": "2023-06-06T08:29:06.194397300Z",
     "start_time": "2023-06-06T08:29:04.594256600Z"
    }
   }
  },
  {
   "cell_type": "code",
   "execution_count": 19,
   "outputs": [
    {
     "name": "stdout",
     "output_type": "stream",
     "text": [
      "Model: \"sequential_6\"\n",
      "_________________________________________________________________\n",
      "Layer (type)                 Output Shape              Param #   \n",
      "=================================================================\n",
      "module_wrapper_36 (ModuleWra (None, 78, 200)           0         \n",
      "_________________________________________________________________\n",
      "module_wrapper_37 (ModuleWra (None, 78, 200)           0         \n",
      "_________________________________________________________________\n",
      "bidirectional_12 (Bidirectio (None, 78, 512)           935936    \n",
      "_________________________________________________________________\n",
      "module_wrapper_38 (ModuleWra (None, 78, 512)           0         \n",
      "_________________________________________________________________\n",
      "bidirectional_13 (Bidirectio (None, 78, 512)           1574912   \n",
      "_________________________________________________________________\n",
      "module_wrapper_39 (ModuleWra (None, 78, 512)           0         \n",
      "_________________________________________________________________\n",
      "module_wrapper_40 (ModuleWra (None, 512)               0         \n",
      "_________________________________________________________________\n",
      "module_wrapper_41 (ModuleWra (None, 1)                 0         \n",
      "=================================================================\n",
      "Total params: 2,510,848\n",
      "Trainable params: 2,510,848\n",
      "Non-trainable params: 0\n",
      "_________________________________________________________________\n"
     ]
    }
   ],
   "source": [
    "model_we.summary()"
   ],
   "metadata": {
    "collapsed": false,
    "ExecuteTime": {
     "end_time": "2023-06-05T11:50:13.922314900Z",
     "start_time": "2023-06-05T11:50:13.906794600Z"
    }
   }
  },
  {
   "cell_type": "code",
   "execution_count": 12,
   "outputs": [],
   "source": [
    "model_w = tf.keras.models.load_model(\"model/best_model_single_modal\")"
   ],
   "metadata": {
    "collapsed": false,
    "ExecuteTime": {
     "end_time": "2023-06-06T08:29:20.446564700Z",
     "start_time": "2023-06-06T08:29:15.084972200Z"
    }
   }
  },
  {
   "cell_type": "code",
   "execution_count": 13,
   "outputs": [
    {
     "name": "stdout",
     "output_type": "stream",
     "text": [
      "63/63 [==============================] - 1s 13ms/step - loss: 0.3118 - acc: 0.8635\n",
      "9/9 [==============================] - 0s 11ms/step - loss: 0.3056 - acc: 0.8669\n"
     ]
    }
   ],
   "source": [
    "loss, accuracy_w = model_w.evaluate(X_test, y_test, verbose=1)\n",
    "loss, sub_accuracy_w = model_w.evaluate(X_subtest, y_subtest, verbose=1)"
   ],
   "metadata": {
    "collapsed": false,
    "ExecuteTime": {
     "end_time": "2023-06-06T08:29:21.997475900Z",
     "start_time": "2023-06-06T08:29:20.447064600Z"
    }
   }
  },
  {
   "cell_type": "code",
   "execution_count": 14,
   "outputs": [
    {
     "name": "stdout",
     "output_type": "stream",
     "text": [
      "Model: \"sequential_5\"\n",
      "_________________________________________________________________\n",
      "Layer (type)                 Output Shape              Param #   \n",
      "=================================================================\n",
      "module_wrapper_30 (ModuleWra (None, 78, 200)           0         \n",
      "_________________________________________________________________\n",
      "module_wrapper_31 (ModuleWra (None, 78, 200)           0         \n",
      "_________________________________________________________________\n",
      "bidirectional_10 (Bidirectio (None, 78, 512)           935936    \n",
      "_________________________________________________________________\n",
      "module_wrapper_32 (ModuleWra (None, 78, 512)           0         \n",
      "_________________________________________________________________\n",
      "bidirectional_11 (Bidirectio (None, 78, 512)           1574912   \n",
      "_________________________________________________________________\n",
      "module_wrapper_33 (ModuleWra (None, 78, 512)           0         \n",
      "_________________________________________________________________\n",
      "module_wrapper_34 (ModuleWra (None, 512)               0         \n",
      "_________________________________________________________________\n",
      "module_wrapper_35 (ModuleWra (None, 1)                 0         \n",
      "=================================================================\n",
      "Total params: 2,510,848\n",
      "Trainable params: 2,510,848\n",
      "Non-trainable params: 0\n",
      "_________________________________________________________________\n"
     ]
    }
   ],
   "source": [
    "model_w.summary()"
   ],
   "metadata": {
    "collapsed": false,
    "ExecuteTime": {
     "end_time": "2023-06-06T08:29:22.041437200Z",
     "start_time": "2023-06-06T08:29:21.997475900Z"
    }
   }
  },
  {
   "cell_type": "code",
   "execution_count": null,
   "outputs": [],
   "source": [],
   "metadata": {
    "collapsed": false
   }
  }
 ],
 "metadata": {
  "kernelspec": {
   "display_name": "Python 3",
   "language": "python",
   "name": "python3"
  },
  "language_info": {
   "codemirror_mode": {
    "name": "ipython",
    "version": 2
   },
   "file_extension": ".py",
   "mimetype": "text/x-python",
   "name": "python",
   "nbconvert_exporter": "python",
   "pygments_lexer": "ipython2",
   "version": "2.7.6"
  }
 },
 "nbformat": 4,
 "nbformat_minor": 0
}
