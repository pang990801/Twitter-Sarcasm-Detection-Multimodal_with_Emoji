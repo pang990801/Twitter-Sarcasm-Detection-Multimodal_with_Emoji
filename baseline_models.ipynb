{
 "cells": [
  {
   "cell_type": "code",
   "execution_count": 14,
   "outputs": [],
   "source": [
    "from sklearn.svm import SVC\n",
    "from sklearn.tree import DecisionTreeClassifier\n",
    "from sklearn.ensemble import RandomForestClassifier, GradientBoostingClassifier\n",
    "from sklearn.metrics import accuracy_score\n",
    "from gensim.models import KeyedVectors\n",
    "import joblib\n",
    "from data_utils import ml_read_data\n",
    "\n"
   ],
   "metadata": {
    "collapsed": false,
    "ExecuteTime": {
     "end_time": "2023-06-06T06:28:08.955715600Z",
     "start_time": "2023-06-06T06:28:08.937667Z"
    }
   }
  },
  {
   "cell_type": "code",
   "execution_count": 15,
   "outputs": [],
   "source": [
    "glove_model = KeyedVectors.load_word2vec_format('glove.twitter.27B.200d.bin', binary=True)\n",
    "emoji2vec_model = KeyedVectors.load_word2vec_format('emoji2vec_twitter.bin', binary=True)"
   ],
   "metadata": {
    "collapsed": false,
    "ExecuteTime": {
     "end_time": "2023-06-06T06:28:20.282405200Z",
     "start_time": "2023-06-06T06:28:09.106080200Z"
    }
   }
  },
  {
   "cell_type": "code",
   "execution_count": 16,
   "outputs": [],
   "source": [
    "X_train, y_train, X_emoji_train, y_emoji_train = ml_read_data(\"train_sentence.csv\", \"train_label.csv\", glove_model, emoji2vec_model)\n",
    "X_test, y_test, X_emoji_test, y_emoji_test = ml_read_data(\"test_sentence.csv\", \"test_label.csv\", glove_model, emoji2vec_model)\n",
    "X_subtest, y_subtest, X_emoji_subtest, y_emoji_subtest = ml_read_data(\"subtest_sentence.csv\", \"subtest_label.csv\", glove_model, emoji2vec_model)"
   ],
   "metadata": {
    "collapsed": false,
    "ExecuteTime": {
     "end_time": "2023-06-06T06:28:27.751488500Z",
     "start_time": "2023-06-06T06:28:20.282905100Z"
    }
   }
  },
  {
   "cell_type": "markdown",
   "source": [
    "## Support Vector Machine(SVM)"
   ],
   "metadata": {
    "collapsed": false
   }
  },
  {
   "cell_type": "code",
   "execution_count": 17,
   "outputs": [
    {
     "name": "stdout",
     "output_type": "stream",
     "text": [
      "Loaded SVM models from files successfully.\n"
     ]
    }
   ],
   "source": [
    "try:\n",
    "\tsvm_classifier = joblib.load(f'baseline_models/svm_classifier.pkl')\n",
    "\tsvm_classifier_we = joblib.load(f'baseline_models/svm_classifier_we.pkl')\n",
    "\tprint(\"Loaded SVM models from files successfully.\")\n",
    "except FileNotFoundError:\n",
    "\tprint(\"Training single-modal models:\")\n",
    "\tsvm_classifier = SVC()\n",
    "\tsvm_classifier.fit(X_train, y_train)\n",
    "\tprint(\"Training multi-modal models:\")\n",
    "\tsvm_classifier_we = SVC()\n",
    "\tsvm_classifier_we.fit(X_emoji_train, y_emoji_train)\n",
    "\tprint(\"Saving models\")\n",
    "\tjoblib.dump(svm_classifier, 'baseline_models/svm_classifier.pkl')\n",
    "\tjoblib.dump(svm_classifier_we, 'baseline_models/svm_classifier_we.pkl')\n",
    "\tprint(\"Saved models to files successfully.\")"
   ],
   "metadata": {
    "collapsed": false,
    "ExecuteTime": {
     "end_time": "2023-06-06T06:28:27.811489500Z",
     "start_time": "2023-06-06T06:28:27.752987100Z"
    }
   }
  },
  {
   "cell_type": "code",
   "execution_count": 18,
   "outputs": [
    {
     "name": "stdout",
     "output_type": "stream",
     "text": [
      "SVM Accuracy single-modal: 0.769\n",
      "SVM Accuracy multi-modal: 0.763\n",
      "SVM Accuracy single-modal in subtest: 0.8129496402877698\n",
      "SVM Accuracy multi-modal in subtest: 0.8237410071942446\n"
     ]
    }
   ],
   "source": [
    "svm_y_pred = svm_classifier.predict(X_test).astype(int)\n",
    "svm_y_emoji_pred = svm_classifier_we.predict(X_emoji_test).astype(int)\n",
    "svm_y_sub_pred = svm_classifier.predict(X_subtest).astype(int)\n",
    "svm_y_sub_emoji_pred = svm_classifier_we.predict(X_emoji_subtest).astype(int)\n",
    "\n",
    "svm_accuracy = accuracy_score(y_test, svm_y_pred)\n",
    "svm_accuracy_emoji = accuracy_score(y_test, svm_y_emoji_pred)\n",
    "svm_accuracy_sub = accuracy_score(y_subtest, svm_y_sub_pred)\n",
    "svm_accuracy_sub_emoji = accuracy_score(y_subtest, svm_y_sub_emoji_pred)\n",
    "print(\"SVM Accuracy single-modal:\", svm_accuracy)\n",
    "print(\"SVM Accuracy multi-modal:\", svm_accuracy_emoji)\n",
    "print(\"SVM Accuracy single-modal in subtest:\", svm_accuracy_sub)\n",
    "print(\"SVM Accuracy multi-modal in subtest:\", svm_accuracy_sub_emoji)"
   ],
   "metadata": {
    "collapsed": false,
    "ExecuteTime": {
     "end_time": "2023-06-06T06:28:52.740259Z",
     "start_time": "2023-06-06T06:28:27.814533200Z"
    }
   }
  },
  {
   "cell_type": "markdown",
   "source": [
    "##  Decision Tree(DT)"
   ],
   "metadata": {
    "collapsed": false
   }
  },
  {
   "cell_type": "code",
   "execution_count": 19,
   "outputs": [
    {
     "name": "stdout",
     "output_type": "stream",
     "text": [
      "Loaded dt models from files successfully.\n"
     ]
    }
   ],
   "source": [
    "try:\n",
    "\tdt_classifier = joblib.load(f'baseline_models/dt_classifier.pkl')\n",
    "\tdt_classifier_we = joblib.load(f'baseline_models/dt_classifier_we.pkl')\n",
    "\tprint(\"Loaded dt models from files successfully.\")\n",
    "except FileNotFoundError:\n",
    "\tprint(\"Training single-modal models:\")\n",
    "\tdt_classifier = DecisionTreeClassifier()\n",
    "\tdt_classifier.fit(X_train, y_train)\n",
    "\tprint(\"Training multi-modal models:\")\n",
    "\tdt_classifier_we = SVC()\n",
    "\tdt_classifier_we.fit(X_emoji_train, y_emoji_train)\n",
    "\tprint(\"Saving models\")\n",
    "\tjoblib.dump(dt_classifier, 'baseline_models/dt_classifier.pkl')\n",
    "\tjoblib.dump(dt_classifier_we, 'baseline_models/dt_classifier_we.pkl')\n",
    "\tprint(\"Saved models to files successfully.\")"
   ],
   "metadata": {
    "collapsed": false,
    "ExecuteTime": {
     "end_time": "2023-06-06T06:28:52.756499200Z",
     "start_time": "2023-06-06T06:28:52.732746200Z"
    }
   }
  },
  {
   "cell_type": "code",
   "execution_count": 20,
   "outputs": [
    {
     "name": "stdout",
     "output_type": "stream",
     "text": [
      "Decision Tree Accuracy single-modal: 0.7265\n",
      "Decision Tree Accuracy multi-modal: 0.7295\n",
      "Decision Tree Accuracy single-modal in subtest: 0.7769784172661871\n",
      "Decision Tree Accuracy multi-modal in subtest: 0.7985611510791367\n"
     ]
    }
   ],
   "source": [
    "dt_y_pred = dt_classifier.predict(X_test).astype(int)\n",
    "dt_y_emoji_pred = dt_classifier_we.predict(X_emoji_test).astype(int)\n",
    "dt_y_sub_pred = dt_classifier.predict(X_subtest).astype(int)\n",
    "dt_y_sub_emoji_pred = dt_classifier_we.predict(X_emoji_subtest).astype(int)\n",
    "\n",
    "dt_accuracy = accuracy_score(y_test, dt_y_pred)\n",
    "dt_accuracy_emoji = accuracy_score(y_test, dt_y_emoji_pred)\n",
    "dt_accuracy_sub = accuracy_score(y_subtest, dt_y_sub_pred)\n",
    "dt_accuracy_sub_emoji = accuracy_score(y_subtest, dt_y_sub_emoji_pred)\n",
    "print(\"Decision Tree Accuracy single-modal:\", dt_accuracy)\n",
    "print(\"Decision Tree Accuracy multi-modal:\", dt_accuracy_emoji)\n",
    "print(\"Decision Tree Accuracy single-modal in subtest:\", dt_accuracy_sub)\n",
    "print(\"Decision Tree Accuracy multi-modal in subtest:\", dt_accuracy_sub_emoji)"
   ],
   "metadata": {
    "collapsed": false,
    "ExecuteTime": {
     "end_time": "2023-06-06T06:28:52.807295700Z",
     "start_time": "2023-06-06T06:28:52.748924Z"
    }
   }
  },
  {
   "cell_type": "markdown",
   "source": [
    "## Random Forest(RF)"
   ],
   "metadata": {
    "collapsed": false
   }
  },
  {
   "cell_type": "code",
   "execution_count": 21,
   "outputs": [
    {
     "name": "stdout",
     "output_type": "stream",
     "text": [
      "Loaded rf models from files successfully.\n"
     ]
    }
   ],
   "source": [
    "try:\n",
    "\trf_classifier = joblib.load(f'baseline_models/rf_classifier.pkl')\n",
    "\trf_classifier_we = joblib.load(f'baseline_models/rf_classifier_we.pkl')\n",
    "\tprint(\"Loaded rf models from files successfully.\")\n",
    "except FileNotFoundError:\n",
    "\tprint(\"Training single-modal models:\")\n",
    "\trf_classifier = SVC()\n",
    "\trf_classifier.fit(X_train, y_train)\n",
    "\tprint(\"Training multi-modal models:\")\n",
    "\trf_classifier_we = RandomForestClassifier()\n",
    "\trf_classifier_we.fit(X_emoji_train, y_emoji_train)\n",
    "\tprint(\"Saving models\")\n",
    "\tjoblib.dump(rf_classifier, 'baseline_models/rf_classifier.pkl')\n",
    "\tjoblib.dump(rf_classifier_we, 'baseline_models/rf_classifier_we.pkl')\n",
    "\tprint(\"Saved models to files successfully.\")"
   ],
   "metadata": {
    "collapsed": false,
    "ExecuteTime": {
     "end_time": "2023-06-06T06:28:52.964997400Z",
     "start_time": "2023-06-06T06:28:52.764509800Z"
    }
   }
  },
  {
   "cell_type": "code",
   "execution_count": 22,
   "outputs": [
    {
     "name": "stdout",
     "output_type": "stream",
     "text": [
      "Random Forest Accuracy single-modal: 0.8145\n",
      "Random Forest Accuracy multi-modal: 0.818\n",
      "Random Forest Accuracy single-modal in subtest: 0.8057553956834532\n",
      "Random Forest Accuracy multi-modal in subtest: 0.8525179856115108\n"
     ]
    }
   ],
   "source": [
    "rf_y_pred = rf_classifier.predict(X_test).astype(int)\n",
    "rf_y_emoji_pred = rf_classifier_we.predict(X_emoji_test).astype(int)\n",
    "rf_y_sub_pred = rf_classifier.predict(X_subtest).astype(int)\n",
    "rf_y_sub_emoji_pred = rf_classifier_we.predict(X_emoji_subtest).astype(int)\n",
    "\n",
    "rf_accuracy = accuracy_score(y_test, rf_y_pred)\n",
    "rf_accuracy_emoji = accuracy_score(y_test, rf_y_emoji_pred)\n",
    "rf_accuracy_sub = accuracy_score(y_subtest, rf_y_sub_pred)\n",
    "rf_accuracy_sub_emoji = accuracy_score(y_subtest, rf_y_sub_emoji_pred)\n",
    "print(\"Random Forest Accuracy single-modal:\", rf_accuracy)\n",
    "print(\"Random Forest Accuracy multi-modal:\", rf_accuracy_emoji)\n",
    "print(\"Random Forest Accuracy single-modal in subtest:\", rf_accuracy_sub)\n",
    "print(\"Random Forest Accuracy multi-modal in subtest:\", rf_accuracy_sub_emoji)"
   ],
   "metadata": {
    "collapsed": false,
    "ExecuteTime": {
     "end_time": "2023-06-06T06:28:53.126769Z",
     "start_time": "2023-06-06T06:28:52.964997400Z"
    }
   }
  },
  {
   "cell_type": "markdown",
   "source": [
    "## Gradient Boosting(GBT)"
   ],
   "metadata": {
    "collapsed": false
   }
  },
  {
   "cell_type": "code",
   "execution_count": 23,
   "outputs": [
    {
     "name": "stdout",
     "output_type": "stream",
     "text": [
      "Loaded gbt models from files successfully.\n"
     ]
    }
   ],
   "source": [
    "try:\n",
    "\tgbt_classifier = joblib.load(f'baseline_models/gbt_classifier.pkl')\n",
    "\tgbt_classifier_we = joblib.load(f'baseline_models/gbt_classifier_we.pkl')\n",
    "\tprint(\"Loaded gbt models from files successfully.\")\n",
    "except FileNotFoundError:\n",
    "\tprint(\"Training single-modal models:\")\n",
    "\tgbt_classifier = SVC()\n",
    "\tgbt_classifier.fit(X_train, y_train)\n",
    "\tprint(\"Training multi-modal models:\")\n",
    "\tgbt_classifier_we = GradientBoostingClassifier()\n",
    "\tgbt_classifier_we.fit(X_emoji_train, y_emoji_train)\n",
    "\tprint(\"Saving models\")\n",
    "\tjoblib.dump(gbt_classifier, 'baseline_models/gbt_classifier.pkl')\n",
    "\tjoblib.dump(gbt_classifier_we, 'baseline_models/gbt_classifier_we.pkl')\n",
    "\tprint(\"Saved models to files successfully.\")"
   ],
   "metadata": {
    "collapsed": false,
    "ExecuteTime": {
     "end_time": "2023-06-06T06:28:53.174133Z",
     "start_time": "2023-06-06T06:28:53.120261500Z"
    }
   }
  },
  {
   "cell_type": "code",
   "execution_count": 24,
   "outputs": [
    {
     "name": "stdout",
     "output_type": "stream",
     "text": [
      "Gradient Boosting Accuracy single-modal: 0.746\n",
      "Gradient Boosting Accuracy multi-modal: 0.7475\n",
      "Gradient Boosting Accuracy single-modal in subtest: 0.7949640287769785\n",
      "Gradient Boosting Accuracy multi-modal in subtest: 0.7949640287769785\n"
     ]
    }
   ],
   "source": [
    "gbt_y_pred = gbt_classifier.predict(X_test).astype(int)\n",
    "gbt_y_emoji_pred = gbt_classifier_we.predict(X_emoji_test).astype(int)\n",
    "gbt_y_sub_pred = gbt_classifier.predict(X_subtest).astype(int)\n",
    "gbt_y_sub_emoji_pred = gbt_classifier_we.predict(X_emoji_subtest).astype(int)\n",
    "\n",
    "gbt_accuracy = accuracy_score(y_test, gbt_y_pred)\n",
    "gbt_accuracy_emoji = accuracy_score(y_test, gbt_y_emoji_pred)\n",
    "gbt_accuracy_sub = accuracy_score(y_subtest, gbt_y_sub_pred)\n",
    "gbt_accuracy_sub_emoji = accuracy_score(y_subtest, gbt_y_sub_emoji_pred)\n",
    "print(\"Gradient Boosting Accuracy single-modal:\", gbt_accuracy)\n",
    "print(\"Gradient Boosting Accuracy multi-modal:\", gbt_accuracy_emoji)\n",
    "print(\"Gradient Boosting Accuracy single-modal in subtest:\", gbt_accuracy_sub)\n",
    "print(\"Gradient Boosting Accuracy multi-modal in subtest:\", gbt_accuracy_sub_emoji)"
   ],
   "metadata": {
    "collapsed": false,
    "ExecuteTime": {
     "end_time": "2023-06-06T06:28:53.186222400Z",
     "start_time": "2023-06-06T06:28:53.163558Z"
    }
   }
  },
  {
   "cell_type": "code",
   "execution_count": null,
   "outputs": [],
   "source": [],
   "metadata": {
    "collapsed": false
   }
  }
 ],
 "metadata": {
  "kernelspec": {
   "display_name": "Python 3",
   "language": "python",
   "name": "python3"
  },
  "language_info": {
   "codemirror_mode": {
    "name": "ipython",
    "version": 2
   },
   "file_extension": ".py",
   "mimetype": "text/x-python",
   "name": "python",
   "nbconvert_exporter": "python",
   "pygments_lexer": "ipython2",
   "version": "2.7.6"
  }
 },
 "nbformat": 4,
 "nbformat_minor": 0
}
