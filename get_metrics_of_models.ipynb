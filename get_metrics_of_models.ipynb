{
 "cells": [
  {
   "cell_type": "code",
   "execution_count": 65,
   "outputs": [],
   "source": [
    "import tensorflow as tf\n",
    "import numpy as np\n",
    "import joblib\n",
    "from sklearn.metrics import accuracy_score, f1_score, recall_score, precision_score\n",
    "from gensim.models import KeyedVectors\n",
    "from data_utils import ml_read_data, ReadOpen\n",
    "from data_utils import Preprocess, preprocess_test"
   ],
   "metadata": {
    "collapsed": false,
    "ExecuteTime": {
     "end_time": "2023-06-06T02:13:29.978028400Z",
     "start_time": "2023-06-06T02:13:29.966401600Z"
    }
   }
  },
  {
   "cell_type": "code",
   "execution_count": 2,
   "outputs": [],
   "source": [
    "# 加载GloVe词向量模型\n",
    "glove_model = KeyedVectors.load_word2vec_format('glove_tt.txt', binary=False)\n",
    "emoji2vec_model = KeyedVectors.load_word2vec_format('emoji2vec_twitter.bin', binary=True)"
   ],
   "metadata": {
    "collapsed": false,
    "ExecuteTime": {
     "end_time": "2023-06-05T22:45:56.317982200Z",
     "start_time": "2023-06-05T22:43:57.784182100Z"
    }
   }
  },
  {
   "cell_type": "code",
   "execution_count": 3,
   "outputs": [],
   "source": [
    "X_train_ml, y_train_ml, X_emoji_train_ml, y_emoji_train_ml = ml_read_data(\"dataset/train_sentence.csv\", \"dataset/train_label.csv\", glove_model, emoji2vec_model)\n",
    "X_test_ml, y_test_ml, X_emoji_test_ml, y_emoji_test_ml = ml_read_data(\"dataset/test_sentence.csv\", \"dataset/test_label.csv\", glove_model, emoji2vec_model)\n",
    "X_subtest_ml, y_subtest_ml, X_emoji_subtest_ml, y_emoji_subtest_ml = ml_read_data(\"dataset/subtest_sentence.csv\", \"dataset/subtest_label.csv\", glove_model, emoji2vec_model)"
   ],
   "metadata": {
    "collapsed": false,
    "ExecuteTime": {
     "end_time": "2023-06-05T22:46:06.164906100Z",
     "start_time": "2023-06-05T22:45:56.270325300Z"
    }
   }
  },
  {
   "cell_type": "markdown",
   "source": [
    "## SVM"
   ],
   "metadata": {
    "collapsed": false
   }
  },
  {
   "cell_type": "code",
   "execution_count": 4,
   "metadata": {
    "collapsed": true,
    "ExecuteTime": {
     "end_time": "2023-06-05T22:46:06.307042Z",
     "start_time": "2023-06-05T22:46:06.166404700Z"
    }
   },
   "outputs": [],
   "source": [
    "svm_model = joblib.load('baseline_models/svm_model.pkl')\n",
    "svm_model_we = joblib.load('baseline_models/svm_model_we.pkl')\n"
   ]
  },
  {
   "cell_type": "code",
   "execution_count": 5,
   "outputs": [],
   "source": [
    "svm_y_pred = svm_model.predict(X_test_ml).astype(int)\n",
    "svm_y_emoji_pred = svm_model_we.predict(X_emoji_test_ml).astype(int)\n",
    "svm_y_sub_pred = svm_model.predict(X_subtest_ml).astype(int)\n",
    "svm_y_sub_emoji_pred = svm_model_we.predict(X_emoji_subtest_ml).astype(int)"
   ],
   "metadata": {
    "collapsed": false,
    "ExecuteTime": {
     "end_time": "2023-06-05T22:46:37.558787200Z",
     "start_time": "2023-06-05T22:46:06.305507100Z"
    }
   }
  },
  {
   "cell_type": "code",
   "execution_count": 6,
   "outputs": [
    {
     "name": "stdout",
     "output_type": "stream",
     "text": [
      "SVM Accuracy: 0.769\n",
      "SVM Accuracy_emoji: 0.763\n",
      "SVM Accuracy_sub: 0.8129496402877698\n",
      "SVM Accuracy_sub_emoji: 0.8237410071942446\n"
     ]
    }
   ],
   "source": [
    "# 使用模型进行预测\n",
    "svm_accuracy = accuracy_score(y_test_ml, svm_y_pred)\n",
    "svm_accuracy_emoji = accuracy_score(y_test_ml, svm_y_emoji_pred)\n",
    "svm_accuracy_sub = accuracy_score(y_subtest_ml, svm_y_sub_pred)\n",
    "svm_accuracy_sub_emoji = accuracy_score(y_subtest_ml, svm_y_sub_emoji_pred)\n",
    "print(\"SVM Accuracy:\", svm_accuracy)\n",
    "print(\"SVM Accuracy_emoji:\", svm_accuracy_emoji)\n",
    "print(\"SVM Accuracy_sub:\", svm_accuracy_sub)\n",
    "print(\"SVM Accuracy_sub_emoji:\", svm_accuracy_sub_emoji)"
   ],
   "metadata": {
    "collapsed": false,
    "ExecuteTime": {
     "end_time": "2023-06-05T22:46:37.574305100Z",
     "start_time": "2023-06-05T22:46:37.557888200Z"
    }
   }
  },
  {
   "cell_type": "code",
   "execution_count": 7,
   "outputs": [
    {
     "name": "stdout",
     "output_type": "stream",
     "text": [
      "SVM F1 Score: 0.772189349112426\n",
      "SVM F1 Score_emoji: 0.7662721893491123\n",
      "SVM F1 Score_sub: 0.8522727272727274\n",
      "SVM F1 Score_sub_emoji: 0.8528528528528528\n"
     ]
    }
   ],
   "source": [
    "svm_f1 = f1_score(y_test_ml, svm_y_pred)\n",
    "svm_f1_emoji = f1_score(y_test_ml, svm_y_emoji_pred)\n",
    "svm_f1_sub = f1_score(y_subtest_ml, svm_y_sub_pred)\n",
    "svm_f1_sub_emoji = f1_score(y_subtest_ml, svm_y_sub_emoji_pred)\n",
    "print(\"SVM F1 Score:\", svm_f1)\n",
    "print(\"SVM F1 Score_emoji:\", svm_f1_emoji)\n",
    "print(\"SVM F1 Score_sub:\", svm_f1_sub)\n",
    "print(\"SVM F1 Score_sub_emoji:\", svm_f1_sub_emoji)"
   ],
   "metadata": {
    "collapsed": false,
    "ExecuteTime": {
     "end_time": "2023-06-05T22:46:37.634106300Z",
     "start_time": "2023-06-05T22:46:37.576315100Z"
    }
   }
  },
  {
   "cell_type": "markdown",
   "source": [
    "## DecisionTree"
   ],
   "metadata": {
    "collapsed": false
   }
  },
  {
   "cell_type": "code",
   "execution_count": 8,
   "outputs": [],
   "source": [
    "dt_classifier = joblib.load('baseline_models/dt_classifier.pkl')\n",
    "dt_classifier_we = joblib.load('baseline_models/dt_classifier_we.pkl')"
   ],
   "metadata": {
    "collapsed": false,
    "ExecuteTime": {
     "end_time": "2023-06-05T22:46:37.652206700Z",
     "start_time": "2023-06-05T22:46:37.591370100Z"
    }
   }
  },
  {
   "cell_type": "code",
   "execution_count": 9,
   "outputs": [],
   "source": [
    "dt_y_pred = dt_classifier.predict(X_test_ml).astype(int)\n",
    "dt_y_emoji_pred = dt_classifier_we.predict(X_emoji_test_ml).astype(int)\n",
    "dt_y_sub_pred = dt_classifier.predict(X_subtest_ml).astype(int)\n",
    "dt_y_sub_emoji_pred = dt_classifier_we.predict(X_emoji_subtest_ml).astype(int)"
   ],
   "metadata": {
    "collapsed": false,
    "ExecuteTime": {
     "end_time": "2023-06-05T22:46:37.653208300Z",
     "start_time": "2023-06-05T22:46:37.620501700Z"
    }
   }
  },
  {
   "cell_type": "code",
   "execution_count": 10,
   "outputs": [
    {
     "name": "stdout",
     "output_type": "stream",
     "text": [
      "DecisionTree Accuracy: 0.7265\n",
      "DecisionTree Accuracy_emoji: 0.7295\n",
      "DecisionTree Accuracy_sub: 0.7769784172661871\n",
      "DecisionTree Accuracy_sub_emoji: 0.7985611510791367\n"
     ]
    }
   ],
   "source": [
    "dt_accuracy = accuracy_score(y_test_ml, dt_y_pred)\n",
    "dt_accuracy_emoji = accuracy_score(y_test_ml, dt_y_emoji_pred)\n",
    "dt_accuracy_sub = accuracy_score(y_subtest_ml, dt_y_sub_pred)\n",
    "dt_accuracy_sub_emoji = accuracy_score(y_subtest_ml, dt_y_sub_emoji_pred)\n",
    "print(\"DecisionTree Accuracy:\", dt_accuracy)\n",
    "print(\"DecisionTree Accuracy_emoji:\", dt_accuracy_emoji)\n",
    "print(\"DecisionTree Accuracy_sub:\", dt_accuracy_sub)\n",
    "print(\"DecisionTree Accuracy_sub_emoji:\", dt_accuracy_sub_emoji)"
   ],
   "metadata": {
    "collapsed": false,
    "ExecuteTime": {
     "end_time": "2023-06-05T22:46:37.653208300Z",
     "start_time": "2023-06-05T22:46:37.639122400Z"
    }
   }
  },
  {
   "cell_type": "code",
   "execution_count": 11,
   "outputs": [
    {
     "name": "stdout",
     "output_type": "stream",
     "text": [
      "DecisionTree F1 Score: 0.7556945064761054\n",
      "DecisionTree F1 Score_emoji: 0.7566351776878093\n",
      "DecisionTree F1 Score_sub: 0.8342245989304812\n",
      "DecisionTree F1 Score_sub_emoji: 0.8461538461538463\n"
     ]
    }
   ],
   "source": [
    "dt_f1 = f1_score(y_test_ml, dt_y_pred)\n",
    "dt_f1_emoji = f1_score(y_test_ml, dt_y_emoji_pred)\n",
    "dt_f1_sub = f1_score(y_subtest_ml, dt_y_sub_pred)\n",
    "dt_f1_sub_emoji = f1_score(y_subtest_ml, dt_y_sub_emoji_pred)\n",
    "print(\"DecisionTree F1 Score:\", dt_f1)\n",
    "print(\"DecisionTree F1 Score_emoji:\", dt_f1_emoji)\n",
    "print(\"DecisionTree F1 Score_sub:\", dt_f1_sub)\n",
    "print(\"DecisionTree F1 Score_sub_emoji:\", dt_f1_sub_emoji)"
   ],
   "metadata": {
    "collapsed": false,
    "ExecuteTime": {
     "end_time": "2023-06-05T22:46:37.695874300Z",
     "start_time": "2023-06-05T22:46:37.653208300Z"
    }
   }
  },
  {
   "cell_type": "markdown",
   "source": [
    "## RandomForest"
   ],
   "metadata": {
    "collapsed": false
   }
  },
  {
   "cell_type": "code",
   "execution_count": 12,
   "outputs": [],
   "source": [
    "rf_classifier = joblib.load('baseline_models/rf_classifier.pkl')\n",
    "rf_classifier_we = joblib.load('baseline_models/rf_classifier_we.pkl')"
   ],
   "metadata": {
    "collapsed": false,
    "ExecuteTime": {
     "end_time": "2023-06-05T22:46:38.072019600Z",
     "start_time": "2023-06-05T22:46:37.669258400Z"
    }
   }
  },
  {
   "cell_type": "code",
   "execution_count": 13,
   "outputs": [],
   "source": [
    "rf_y_pred = rf_classifier.predict(X_test_ml).astype(int)\n",
    "rf_y_emoji_pred = rf_classifier_we.predict(X_emoji_test_ml).astype(int)\n",
    "rf_y_sub_pred = rf_classifier.predict(X_subtest_ml).astype(int)\n",
    "rf_y_sub_emoji_pred = rf_classifier_we.predict(X_emoji_subtest_ml).astype(int)"
   ],
   "metadata": {
    "collapsed": false,
    "ExecuteTime": {
     "end_time": "2023-06-05T22:46:38.226547100Z",
     "start_time": "2023-06-05T22:46:38.072999400Z"
    }
   }
  },
  {
   "cell_type": "code",
   "execution_count": 14,
   "outputs": [
    {
     "name": "stdout",
     "output_type": "stream",
     "text": [
      "RandomForest Accuracy: 0.8145\n",
      "RandomForest Accuracy_emoji: 0.818\n",
      "RandomForest Accuracy_sub: 0.8057553956834532\n",
      "RandomForest Accuracy_sub_emoji: 0.8525179856115108\n"
     ]
    }
   ],
   "source": [
    "rf_accuracy = accuracy_score(y_test_ml, rf_y_pred)\n",
    "rf_accuracy_emoji = accuracy_score(y_test_ml, rf_y_emoji_pred)\n",
    "rf_accuracy_sub = accuracy_score(y_subtest_ml, rf_y_sub_pred)\n",
    "rf_accuracy_sub_emoji = accuracy_score(y_subtest_ml, rf_y_sub_emoji_pred)\n",
    "print(\"RandomForest Accuracy:\", rf_accuracy)\n",
    "print(\"RandomForest Accuracy_emoji:\", rf_accuracy_emoji)\n",
    "print(\"RandomForest Accuracy_sub:\", rf_accuracy_sub)\n",
    "print(\"RandomForest Accuracy_sub_emoji:\", rf_accuracy_sub_emoji)"
   ],
   "metadata": {
    "collapsed": false,
    "ExecuteTime": {
     "end_time": "2023-06-05T22:46:38.242602100Z",
     "start_time": "2023-06-05T22:46:38.227077900Z"
    }
   }
  },
  {
   "cell_type": "code",
   "execution_count": 15,
   "outputs": [
    {
     "name": "stdout",
     "output_type": "stream",
     "text": [
      "RandomForest F1 Score: 0.8232491662696524\n",
      "RandomForest F1 Score_emoji: 0.8255033557046979\n",
      "RandomForest F1 Score_sub: 0.8524590163934426\n",
      "RandomForest F1 Score_sub_emoji: 0.8838526912181304\n"
     ]
    }
   ],
   "source": [
    "rf_f1 = f1_score(y_test_ml, rf_y_pred)\n",
    "rf_f1_emoji = f1_score(y_test_ml, rf_y_emoji_pred)\n",
    "rf_f1_sub = f1_score(y_subtest_ml, rf_y_sub_pred)\n",
    "rf_f1_sub_emoji = f1_score(y_subtest_ml, rf_y_sub_emoji_pred)\n",
    "print(\"RandomForest F1 Score:\", rf_f1)\n",
    "print(\"RandomForest F1 Score_emoji:\", rf_f1_emoji)\n",
    "print(\"RandomForest F1 Score_sub:\", rf_f1_sub)\n",
    "print(\"RandomForest F1 Score_sub_emoji:\", rf_f1_sub_emoji)"
   ],
   "metadata": {
    "collapsed": false,
    "ExecuteTime": {
     "end_time": "2023-06-05T22:46:38.301369600Z",
     "start_time": "2023-06-05T22:46:38.242602100Z"
    }
   }
  },
  {
   "cell_type": "markdown",
   "source": [
    "## GradientBoosting"
   ],
   "metadata": {
    "collapsed": false
   }
  },
  {
   "cell_type": "code",
   "execution_count": 16,
   "outputs": [],
   "source": [
    "gbt_classifier = joblib.load('baseline_models/gbt_classifier.pkl')\n",
    "gbt_classifier_we = joblib.load('baseline_models/gbt_classifier_we.pkl')"
   ],
   "metadata": {
    "collapsed": false,
    "ExecuteTime": {
     "end_time": "2023-06-05T22:46:38.315490100Z",
     "start_time": "2023-06-05T22:46:38.259153500Z"
    }
   }
  },
  {
   "cell_type": "code",
   "execution_count": 17,
   "outputs": [],
   "source": [
    "gbt_y_pred = gbt_classifier.predict(X_test_ml).astype(int)\n",
    "gbt_y_emoji_pred = gbt_classifier_we.predict(X_emoji_test_ml).astype(int)\n",
    "gbt_y_sub_pred = gbt_classifier.predict(X_subtest_ml).astype(int)\n",
    "gbt_y_sub_emoji_pred = gbt_classifier_we.predict(X_emoji_subtest_ml).astype(int)"
   ],
   "metadata": {
    "collapsed": false,
    "ExecuteTime": {
     "end_time": "2023-06-05T22:46:38.327519500Z",
     "start_time": "2023-06-05T22:46:38.289350300Z"
    }
   }
  },
  {
   "cell_type": "code",
   "execution_count": 18,
   "outputs": [
    {
     "name": "stdout",
     "output_type": "stream",
     "text": [
      "Accuracy: 0.746\n",
      "Accuracy_emoji: 0.7475\n",
      "Accuracy_sub: 0.7949640287769785\n",
      "Accuracy_sub_emoji: 0.7949640287769785\n"
     ]
    }
   ],
   "source": [
    "gbt_accuracy = accuracy_score(y_test_ml, gbt_y_pred)\n",
    "gbt_accuracy_emoji = accuracy_score(y_test_ml, gbt_y_emoji_pred)\n",
    "gbt_accuracy_sub = accuracy_score(y_subtest_ml, gbt_y_sub_pred)\n",
    "gbt_accuracy_sub_emoji = accuracy_score(y_subtest_ml, gbt_y_sub_emoji_pred)\n",
    "print(\"GradientBoosting Accuracy:\", gbt_accuracy)\n",
    "print(\"GradientBoosting Accuracy_emoji:\", gbt_accuracy_emoji)\n",
    "print(\"GradientBoosting Accuracy_sub:\", gbt_accuracy_sub)\n",
    "print(\"GradientBoosting Accuracy_sub_emoji:\", gbt_accuracy_sub_emoji)"
   ],
   "metadata": {
    "collapsed": false,
    "ExecuteTime": {
     "end_time": "2023-06-05T22:46:38.363153500Z",
     "start_time": "2023-06-05T22:46:38.320464900Z"
    }
   }
  },
  {
   "cell_type": "code",
   "execution_count": 19,
   "outputs": [
    {
     "name": "stdout",
     "output_type": "stream",
     "text": [
      "GradientBoosting F1 Score: 0.75146771037182\n",
      "GradientBoosting F1 Score_emoji: 0.7528144884973079\n",
      "GradientBoosting F1 Score_sub: 0.8376068376068376\n",
      "GradientBoosting F1 Score_sub_emoji: 0.8357348703170029\n"
     ]
    }
   ],
   "source": [
    "gbt_f1 = f1_score(y_test_ml, gbt_y_pred)\n",
    "gbt_f1_emoji = f1_score(y_test_ml, gbt_y_emoji_pred)\n",
    "gbt_f1_sub = f1_score(y_subtest_ml, gbt_y_sub_pred)\n",
    "gbt_f1_sub_emoji = f1_score(y_subtest_ml, gbt_y_sub_emoji_pred)\n",
    "print(\"GradientBoosting F1 Score:\", gbt_f1)\n",
    "print(\"GradientBoosting F1 Score_emoji:\", gbt_f1_emoji)\n",
    "print(\"GradientBoosting F1 Score_sub:\", gbt_f1_sub)\n",
    "print(\"GradientBoosting F1 Score_sub_emoji:\", gbt_f1_sub_emoji)"
   ],
   "metadata": {
    "collapsed": false,
    "ExecuteTime": {
     "end_time": "2023-06-05T22:46:56.459884400Z",
     "start_time": "2023-06-05T22:46:56.406609100Z"
    }
   }
  },
  {
   "cell_type": "markdown",
   "source": [
    "## Bi-LSTM+ATT"
   ],
   "metadata": {
    "collapsed": false
   }
  },
  {
   "cell_type": "code",
   "execution_count": 20,
   "outputs": [
    {
     "name": "stdout",
     "output_type": "stream",
     "text": [
      "Reading data...\n",
      "Getting Embeddings...\n",
      "Loaded 1193515 word vectors.\n",
      "0 words not found in vocabulary\n",
      "Loaded 1193515 word vectors.\n",
      "0 words not found in vocabulary\n"
     ]
    }
   ],
   "source": [
    "filename_train = \"dataset/train_sentence.csv\"\n",
    "Labelfile_train = \"dataset/train_label.csv\"\n",
    "filename_test = \"dataset/test_sentence.csv\"\n",
    "Labelfile_test = \"dataset/test_label.csv\"\n",
    "filename_subtest = \"dataset/subtest_sentence.csv\"\n",
    "Labelfile_subtest = \"dataset/subtest_label.csv\"\n",
    "print('Reading data...')\n",
    "data_train, labels_train, count_train = ReadOpen(filename_train, Labelfile_train)\n",
    "data_test, labels_test, count_test = ReadOpen(filename_test, Labelfile_test)\n",
    "data_subtest, labels_subtest, count_subtest = ReadOpen(filename_subtest, Labelfile_subtest)\n",
    "print('Getting Embeddings...')\n",
    "get_emoji2vec = True\n",
    "padded_docs_train, embedding_matrix, l, t = Preprocess(data_train, count_train, glove_model, emoji2vec_model, get_emoji2vec=get_emoji2vec)\n",
    "padded_docs_test = preprocess_test(t, l, data_test)\n",
    "padded_docs_subtest = preprocess_test(t, l, data_subtest)\n",
    "print('Successfully loaded and processed the data!')\n",
    "X_subtest = padded_docs_subtest\n",
    "y_subtest = labels_subtest\n",
    "X_train = padded_docs_train\n",
    "X_test = padded_docs_test\n",
    "y_train = labels_train\n",
    "y_test = labels_test"
   ],
   "metadata": {
    "collapsed": false,
    "ExecuteTime": {
     "end_time": "2023-06-05T22:48:55.863589100Z",
     "start_time": "2023-06-05T22:47:11.275754300Z"
    }
   }
  },
  {
   "cell_type": "code",
   "execution_count": 21,
   "outputs": [],
   "source": [
    "model_w = tf.keras.models.load_model(\"model/best_model_w_0.8634999990463257_sub_0.866906464099884\")\n",
    "model_we = tf.keras.models.load_model(\"model/best_model_we_0.8734999895095825_sub_0.8920863270759583\")"
   ],
   "metadata": {
    "collapsed": false,
    "ExecuteTime": {
     "end_time": "2023-06-05T22:50:46.048760700Z",
     "start_time": "2023-06-05T22:48:55.862083100Z"
    }
   }
  },
  {
   "cell_type": "code",
   "execution_count": 23,
   "outputs": [
    {
     "name": "stdout",
     "output_type": "stream",
     "text": [
      "63/63 [==============================] - 37s 414ms/step - loss: 0.3118 - acc: 0.8635\n",
      "9/9 [==============================] - 0s 14ms/step - loss: 0.3056 - acc: 0.8669\n",
      "63/63 [==============================] - 1s 14ms/step - loss: 0.3200 - acc: 0.8735\n",
      "9/9 [==============================] - 0s 14ms/step - loss: 0.2852 - acc: 0.8921\n"
     ]
    }
   ],
   "source": [
    "loss, accuracy_w = model_w.evaluate(X_test, y_test, verbose=1)\n",
    "loss, sub_accuracy_w = model_w.evaluate(X_subtest, y_subtest, verbose=1)\n",
    "\n",
    "loss, accuracy_we = model_we.evaluate(X_test, y_test, verbose=1)\n",
    "loss, sub_accuracy_we = model_we.evaluate(X_subtest, y_subtest, verbose=1)"
   ],
   "metadata": {
    "collapsed": false,
    "ExecuteTime": {
     "end_time": "2023-06-05T23:03:05.651248700Z",
     "start_time": "2023-06-05T23:02:26.592974200Z"
    }
   }
  },
  {
   "cell_type": "code",
   "execution_count": 24,
   "outputs": [
    {
     "name": "stdout",
     "output_type": "stream",
     "text": [
      "Bi-LSTM+ATT_w Accuracy: 0.8634999990463257\n",
      "Bi-LSTM+ATT_w Accuracy_sub: 0.866906464099884\n",
      "Bi-LSTM+ATT_we Accuracy: 0.8734999895095825\n",
      "Bi-LSTM+ATT_we Accuracy_sub: 0.8920863270759583\n"
     ]
    }
   ],
   "source": [
    "print(\"Bi-LSTM+ATT_w Accuracy:\", accuracy_w)\n",
    "print(\"Bi-LSTM+ATT_w Accuracy_sub:\", sub_accuracy_w)\n",
    "print(\"Bi-LSTM+ATT_we Accuracy:\", accuracy_we)\n",
    "print(\"Bi-LSTM+ATT_we Accuracy_sub:\", sub_accuracy_we)"
   ],
   "metadata": {
    "collapsed": false,
    "ExecuteTime": {
     "end_time": "2023-06-05T23:03:08.072427700Z",
     "start_time": "2023-06-05T23:03:08.059896900Z"
    }
   }
  },
  {
   "cell_type": "code",
   "execution_count": 25,
   "outputs": [],
   "source": [
    "y_pred_w = (model_w.predict(X_test) > 0.5).astype(int)\n",
    "y_pred_we = (model_we.predict(X_test) > 0.5).astype(int)\n",
    "sub_y_pred_w = (model_w.predict(X_subtest) > 0.5).astype(int)\n",
    "sub_y_pred_we = (model_we.predict(X_subtest) > 0.5).astype(int)\n",
    "f1_w = f1_score(y_test, y_pred_w)\n",
    "f1_we = f1_score(y_test, y_pred_we)\n",
    "sub_f1_w = f1_score(y_subtest, sub_y_pred_w)\n",
    "sub_f1_we = f1_score(y_subtest, sub_y_pred_we)"
   ],
   "metadata": {
    "collapsed": false,
    "ExecuteTime": {
     "end_time": "2023-06-05T23:03:11.581407800Z",
     "start_time": "2023-06-05T23:03:09.931926Z"
    }
   }
  },
  {
   "cell_type": "code",
   "execution_count": 26,
   "outputs": [
    {
     "name": "stdout",
     "output_type": "stream",
     "text": [
      "Bi-LSTM+ATT_w F1 Score: 0.8655834564254061\n",
      "Bi-LSTM+ATT_we F1 Score: 0.8685714285714285\n",
      "Bi-LSTM+ATT_w F1 Score_sub: 0.8939828080229226\n",
      "Bi-LSTM+ATT_we F1 Score_sub: 0.9107142857142858\n"
     ]
    }
   ],
   "source": [
    "print(\"Bi-LSTM+ATT_w F1 Score:\", f1_w)\n",
    "print(\"Bi-LSTM+ATT_we F1 Score:\", f1_we)\n",
    "print(\"Bi-LSTM+ATT_w F1 Score_sub:\", sub_f1_w)\n",
    "print(\"Bi-LSTM+ATT_we F1 Score_sub:\", sub_f1_we)"
   ],
   "metadata": {
    "collapsed": false,
    "ExecuteTime": {
     "end_time": "2023-06-05T23:03:11.597740Z",
     "start_time": "2023-06-05T23:03:11.581407800Z"
    }
   }
  },
  {
   "cell_type": "code",
   "execution_count": 107,
   "outputs": [
    {
     "data": {
      "text/plain": "<Figure size 640x480 with 1 Axes>",
      "image/png": "[encoded data removed]"
     },
     "metadata": {},
     "output_type": "display_data"
    }
   ],
   "source": [
    "import matplotlib.pyplot as plt\n",
    "\n",
    "# 准确率数据\n",
    "dt_accuracies_list = [dt_accuracy, dt_accuracy_emoji, dt_accuracy_sub, dt_accuracy_sub_emoji]\n",
    "svm_accuracies_list = [svm_accuracy, svm_accuracy_emoji, svm_accuracy_sub, svm_accuracy_sub_emoji]\n",
    "rf_accuracies_list = [rf_accuracy, rf_accuracy_emoji, rf_accuracy_sub, rf_accuracy_sub_emoji]\n",
    "dl_accuracies_list = [accuracy_w, accuracy_we, sub_accuracy_w, sub_accuracy_we]\n",
    "\n",
    "dt_f1_list = [dt_f1, dt_f1_emoji, dt_f1_sub, dt_f1_sub_emoji]\n",
    "svm_f1_list = [svm_f1, svm_f1_emoji, svm_f1_sub, svm_f1_sub_emoji]\n",
    "rf_f1_list = [rf_f1, rf_f1_emoji, rf_f1_sub, rf_f1_sub_emoji]\n",
    "dl_f1_list = [f1_w, f1_we, sub_f1_w, sub_f1_we]\n",
    "\n",
    "# 类别标签\n",
    "categories = ['W and full test', 'WE and full test', 'W and sub test', 'WE and sub test']\n",
    "\n",
    "# 设置柱状图的宽度\n",
    "bar_width = 0.15\n",
    "bar_spacing = 0.05\n",
    "\n",
    "# 设置每组模型的位置\n",
    "index = [0, bar_width, 2 * bar_width, 3 * bar_width, 4 * bar_width]\n",
    "x=np.arange(4)#柱状图在横坐标上的位置\n",
    "# 绘制柱状图\n",
    "model_labels_acc = ['Decision Tree Acc', 'SVM Acc', 'Random Forest Acc', 'Bi-LSTM+ATT Acc']\n",
    "model_labels_f1 = ['SVM F1', 'Decision Tree F1', 'Random Forest F1', 'Bi-LSTM+ATT F1']\n",
    "colors = plt.get_cmap('tab20c')\n",
    "bar_colors = [colors(0), colors(4), colors(8), colors(12)]\n",
    "plot_colors = [colors(1), colors(5), colors(9), colors(13)]\n",
    "\n",
    "x = np.arange(len(model_labels_acc))  # x轴刻度标签位置\n",
    "width = 0.2  # 柱子的宽度\n",
    "# 计算每个柱子在x轴上的位置，保证x轴刻度标签居中\n",
    "\n",
    "plt.bar(x - 1.5*width, dt_accuracies_list, width, label=model_labels_acc[0], color=bar_colors[0])\n",
    "plt.bar(x - 0.5*width, svm_accuracies_list, width, label=model_labels_acc[1], color=bar_colors[1])\n",
    "plt.bar(x + 0.5*width, rf_accuracies_list, width, label=model_labels_acc[2], color=bar_colors[2])\n",
    "plt.bar(x + 1.5*width, dl_accuracies_list, width, label=model_labels_acc[3], color=bar_colors[3])\n",
    "\n",
    "plt.plot(x-0.5*width, dt_f1_list, label=model_labels_f1[0], color=plot_colors[0])\n",
    "plt.plot(x - 0.5*width, svm_f1_list, label=model_labels_f1[1], color=plot_colors[1])\n",
    "plt.plot(x - 0.5*width, rf_f1_list, label=model_labels_f1[2], color=plot_colors[2])\n",
    "plt.plot(x - 0.5*width, dl_f1_list, label=model_labels_f1[3], color=plot_colors[3])\n",
    "\n",
    "# 设置x轴标签\n",
    "plt.xlabel('Models and Dataset Categories')\n",
    "# 设置y轴标签\n",
    "plt.ylim(0.6)\n",
    "plt.ylabel('Accuracies and F1 Scores')\n",
    "# 设置图标题\n",
    "plt.title('Comparison of Accuracies and F1 Scores for Different Models')\n",
    "# 设置x轴刻度标签\n",
    "plt.xticks(x+bar_width/2 - 0.1,categories)\n",
    "# 添加图例\n",
    "plt.legend(loc='lower right', fontsize='small')\n",
    "\n",
    "# 展示图形\n",
    "plt.show()"
   ],
   "metadata": {
    "collapsed": false,
    "ExecuteTime": {
     "end_time": "2023-06-06T03:43:32.575391200Z",
     "start_time": "2023-06-06T03:43:32.418904Z"
    }
   }
  },
  {
   "cell_type": "code",
   "execution_count": 99,
   "outputs": [],
   "source": [
    "labels = ['svm', 'dt', 'rf']\n",
    "metrics = [accuracy_score, f1_score, recall_score, precision_score]\n",
    "metrics_names = [\"accuracy_score\", \"f1_score\", \"recall_score\", \"precision_score\"]"
   ],
   "metadata": {
    "collapsed": false,
    "ExecuteTime": {
     "end_time": "2023-06-06T02:53:42.013768400Z",
     "start_time": "2023-06-06T02:53:41.998220200Z"
    }
   }
  },
  {
   "cell_type": "code",
   "execution_count": 110,
   "outputs": [
    {
     "name": "stdout",
     "output_type": "stream",
     "text": [
      "\n",
      "svm: \n",
      "svm_accuracy_score_list:  [0.769, 0.763, 0.8129496402877698, 0.8237410071942446]\n",
      "svm_f1_score_list:  [0.772189349112426, 0.7662721893491123, 0.8522727272727274, 0.8528528528528528]\n",
      "svm_recall_score_list:  [0.783, 0.777, 0.872093023255814, 0.8255813953488372]\n",
      "svm_precision_score_list:  [0.7616731517509727, 0.7558365758754864, 0.8333333333333334, 0.8819875776397516]\n",
      "svm_list:  [[0.769, 0.763, 0.8129496402877698, 0.8237410071942446], [0.772189349112426, 0.7662721893491123, 0.8522727272727274, 0.8528528528528528], [0.783, 0.777, 0.872093023255814, 0.8255813953488372], [0.7616731517509727, 0.7558365758754864, 0.8333333333333334, 0.8819875776397516]]\n",
      "\n",
      "dt: \n",
      "dt_accuracy_score_list:  [0.7265, 0.7295, 0.7769784172661871, 0.7985611510791367]\n",
      "dt_f1_score_list:  [0.7556945064761054, 0.7566351776878093, 0.8342245989304812, 0.8461538461538463]\n",
      "dt_recall_score_list:  [0.846, 0.841, 0.9069767441860465, 0.8953488372093024]\n",
      "dt_precision_score_list:  [0.6828087167070218, 0.687653311529027, 0.7722772277227723, 0.8020833333333334]\n",
      "dt_list:  [[0.7265, 0.7295, 0.7769784172661871, 0.7985611510791367], [0.7556945064761054, 0.7566351776878093, 0.8342245989304812, 0.8461538461538463], [0.846, 0.841, 0.9069767441860465, 0.8953488372093024], [0.6828087167070218, 0.687653311529027, 0.7722772277227723, 0.8020833333333334]]\n",
      "\n",
      "rf: \n",
      "rf_accuracy_score_list:  [0.8145, 0.818, 0.8057553956834532, 0.8525179856115108]\n",
      "rf_f1_score_list:  [0.8232491662696524, 0.8255033557046979, 0.8524590163934426, 0.8838526912181304]\n",
      "rf_recall_score_list:  [0.864, 0.861, 0.9069767441860465, 0.9069767441860465]\n",
      "rf_precision_score_list:  [0.7861692447679709, 0.7928176795580111, 0.8041237113402062, 0.861878453038674]\n",
      "rf_list:  [[0.8145, 0.818, 0.8057553956834532, 0.8525179856115108], [0.8232491662696524, 0.8255033557046979, 0.8524590163934426, 0.8838526912181304], [0.864, 0.861, 0.9069767441860465, 0.9069767441860465], [0.7861692447679709, 0.7928176795580111, 0.8041237113402062, 0.861878453038674]]\n"
     ]
    }
   ],
   "source": [
    "for label in labels:\n",
    "    print(f\"\\n{label}: \")\n",
    "    globals()[f\"{label}_list\"] = []\n",
    "    for metric, metrics_name in zip(metrics, metrics_names):\n",
    "        globals()[f\"{label}_{metrics_name}\"] = metric(y_test_ml, globals()[f\"{label}_y_pred\"])\n",
    "        globals()[f\"{label}_{metrics_name}_emoji\"] = metric(y_test_ml, globals()[f\"{label}_y_emoji_pred\"])\n",
    "        globals()[f\"{label}_{metrics_name}_sub\"] = metric(y_subtest_ml, globals()[f\"{label}_y_sub_pred\"])\n",
    "        globals()[f\"{label}_{metrics_name}_sub_emoji\"] = metric(y_subtest_ml, globals()[f\"{label}_y_sub_emoji_pred\"])\n",
    "\n",
    "        globals()[f\"{label}_{metrics_name}_list\"] = [globals()[f\"{label}_{metrics_name}\"],globals()[f\"{label}_{metrics_name}_emoji\"],globals()[f\"{label}_{metrics_name}_sub\"], globals()[f\"{label}_{metrics_name}_sub_emoji\"]]\n",
    "        globals()[f\"{label}_list\"].append(globals()[f\"{label}_{metrics_name}_list\"])\n",
    "        print(f\"{label}_{metrics_name}_list: \", globals()[f\"{label}_{metrics_name}_list\"])\n",
    "    print(f\"{label}_list: \", globals()[f\"{label}_list\"])"
   ],
   "metadata": {
    "collapsed": false,
    "ExecuteTime": {
     "end_time": "2023-06-06T04:55:53.857757900Z",
     "start_time": "2023-06-06T04:55:53.810425900Z"
    }
   }
  },
  {
   "cell_type": "code",
   "execution_count": 148,
   "outputs": [],
   "source": [
    "svm_list = [[0.769, 0.763, 0.8129496402877698, 0.8237410071942446],[0.772189349112426, 0.7662721893491123, 0.8522727272727274, 0.8528528528528528],[0.783, 0.777, 0.872093023255814, 0.8255813953488372],[0.7616731517509727, 0.7558365758754864, 0.8333333333333334, 0.8819875776397516]]\n",
    "\n",
    "dt_list = [[0.7265, 0.7295, 0.7769784172661871, 0.7985611510791367],[0.7556945064761054, 0.7566351776878093, 0.8342245989304812, 0.8461538461538463],[0.846, 0.841, 0.9069767441860465, 0.8953488372093024],[0.6828087167070218, 0.687653311529027, 0.7722772277227723, 0.8020833333333334]]\n",
    "\n",
    "rf_list = [[0.8145, 0.818, 0.8057553956834532, 0.8525179856115108],[0.8232491662696524, 0.8255033557046979, 0.8524590163934426, 0.8838526912181304],[0.864, 0.861, 0.9069767441860465, 0.9069767441860465],[0.7861692447679709, 0.7928176795580111, 0.8041237113402062, 0.861878453038674]]\n",
    "\n",
    "dl_list = [[0.8635, 0.8735, 0.8669064748201439, 0.8920863309352518],[0.8655834564254061, 0.8685714285714285, 0.8939828080229226, 0.9107142857142858],[0.879, 0.836, 0.9069767441860465, 0.8895348837209303],[0.8525703200775946, 0.9037837837837838, 0.8813559322033898, 0.9329268292682927]]"
   ],
   "metadata": {
    "collapsed": false,
    "ExecuteTime": {
     "end_time": "2023-06-06T05:21:22.174778900Z",
     "start_time": "2023-06-06T05:21:22.151196Z"
    }
   }
  },
  {
   "cell_type": "code",
   "execution_count": 149,
   "outputs": [
    {
     "name": "stdout",
     "output_type": "stream",
     "text": [
      "[[76.9, 76.3, 81.29, 82.37], [77.22, 76.63, 85.23, 85.29], [78.3, 77.7, 87.21, 82.56], [76.17, 75.58, 83.33, 88.2]]\n",
      "[[72.65, 72.95, 77.7, 79.86], [75.57, 75.66, 83.42, 84.62], [84.6, 84.1, 90.7, 89.53], [68.28, 68.77, 77.23, 80.21]]\n",
      "[[81.45, 81.8, 80.58, 85.25], [82.32, 82.55, 85.25, 88.39], [86.4, 86.1, 90.7, 90.7], [78.62, 79.28, 80.41, 86.19]]\n",
      "[[86.35, 87.35, 86.69, 89.21], [86.56, 86.86, 89.4, 91.07], [87.9, 83.6, 90.7, 88.95], [85.26, 90.38, 88.14, 93.29]]\n"
     ]
    }
   ],
   "source": [
    "def multiply_and_round(data):\n",
    "    result = []\n",
    "    for row in data:\n",
    "        new_row = [format(element * 100, '.2f') for element in row]\n",
    "        result.append(new_row)\n",
    "    return result\n",
    "\n",
    "svm_list = multiply_and_round(svm_list)\n",
    "dt_list = multiply_and_round(dt_list)\n",
    "rf_list = multiply_and_round(rf_list)\n",
    "dl_list = multiply_and_round(dl_list)\n",
    "\n",
    "print(svm_list)\n",
    "print(dt_list)\n",
    "print(rf_list)\n",
    "print(dl_list)"
   ],
   "metadata": {
    "collapsed": false,
    "ExecuteTime": {
     "end_time": "2023-06-06T05:21:22.466918Z",
     "start_time": "2023-06-06T05:21:22.443325Z"
    }
   }
  },
  {
   "cell_type": "code",
   "execution_count": 152,
   "outputs": [],
   "source": [
    "import csv\n",
    "\n",
    "filename = 'metrics_data.csv'\n",
    "\n",
    "with open(filename, 'w', newline='') as csvfile:\n",
    "    writer = csv.writer(csvfile)\n",
    "    writer.writerow(['Metrics names','Model', 'Single-modal', 'Multi-modal', 'Single-modal in sub test', 'Multi-modal in sub test'])  # 写入标题行\n",
    "    for i, metrics_name in zip(range(len(svm_list)), metrics_names):\n",
    "        svm_row = [metrics_name] + ['SVM'] + svm_list[i]\n",
    "        dt_row = [metrics_name] + ['DT'] + dt_list[i]\n",
    "        rf_row = [metrics_name] + ['RF'] + rf_list[i]\n",
    "        dl_row = [metrics_name] + ['DL'] + dl_list[i]\n",
    "        writer.writerow(svm_row)\n",
    "        writer.writerow(dt_row)\n",
    "        writer.writerow(rf_row)\n",
    "        writer.writerow(dl_row)\n"
   ],
   "metadata": {
    "collapsed": false,
    "ExecuteTime": {
     "end_time": "2023-06-06T05:24:09.248736700Z",
     "start_time": "2023-06-06T05:24:09.226428400Z"
    }
   }
  },
  {
   "cell_type": "code",
   "execution_count": null,
   "outputs": [],
   "source": [],
   "metadata": {
    "collapsed": false
   }
  }
 ],
 "metadata": {
  "kernelspec": {
   "display_name": "Python 3",
   "language": "python",
   "name": "python3"
  },
  "language_info": {
   "codemirror_mode": {
    "name": "ipython",
    "version": 2
   },
   "file_extension": ".py",
   "mimetype": "text/x-python",
   "name": "python",
   "nbconvert_exporter": "python",
   "pygments_lexer": "ipython2",
   "version": "2.7.6"
  }
 },
 "nbformat": 4,
 "nbformat_minor": 0
}
